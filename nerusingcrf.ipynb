{
 "cells": [
  {
   "cell_type": "markdown",
   "metadata": {},
   "source": [
    "# Named Entity Recognition using CRF model\n",
    "Total per tag\n",
    "\n",
    "* B-PER 2508\n",
    "* I-PER 3111\n",
    "* B-ADJ 402 \n",
    "* I-ADJ 442\n",
    "* B-ANM 2556\n",
    "* I-ANM 2478\n",
    "* B-GODS 467\n",
    "* I-GODS 549\n",
    "* B-OBJ 1661\n",
    "* I-OBJ 986\n",
    "* O 74768"
   ]
  },
  {
   "cell_type": "markdown",
   "metadata": {},
   "source": [
    "#### Importing Libraries"
   ]
  },
  {
   "cell_type": "code",
   "execution_count": 3,
   "metadata": {},
   "outputs": [],
   "source": [
    "import pandas as pd\n",
    "from sklearn.model_selection import train_test_split, RandomizedSearchCV\n",
    "from sklearn_crfsuite import CRF\n",
    "from sklearn_crfsuite.metrics import flat_f1_score, flat_classification_report\n",
    "from sklearn_crfsuite import scorers\n",
    "from sklearn.metrics import make_scorer\n",
    "import scipy.stats"
   ]
  },
  {
   "cell_type": "code",
   "execution_count": 4,
   "metadata": {},
   "outputs": [],
   "source": [
    "# Membaca file \n",
    "df = pd.read_excel('ner_dataset.xlsx')"
   ]
  },
  {
   "cell_type": "code",
   "execution_count": 5,
   "metadata": {},
   "outputs": [
    {
     "data": {
      "text/html": [
       "<div>\n",
       "<style scoped>\n",
       "    .dataframe tbody tr th:only-of-type {\n",
       "        vertical-align: middle;\n",
       "    }\n",
       "\n",
       "    .dataframe tbody tr th {\n",
       "        vertical-align: top;\n",
       "    }\n",
       "\n",
       "    .dataframe thead th {\n",
       "        text-align: right;\n",
       "    }\n",
       "</style>\n",
       "<table border=\"1\" class=\"dataframe\">\n",
       "  <thead>\n",
       "    <tr style=\"text-align: right;\">\n",
       "      <th></th>\n",
       "      <th>StoryID</th>\n",
       "      <th>Sentence</th>\n",
       "      <th>SentenceID</th>\n",
       "      <th>Word</th>\n",
       "      <th>Tag</th>\n",
       "    </tr>\n",
       "  </thead>\n",
       "  <tbody>\n",
       "    <tr>\n",
       "      <th>0</th>\n",
       "      <td>0</td>\n",
       "      <td>anak_ririh</td>\n",
       "      <td>0</td>\n",
       "      <td>Pan</td>\n",
       "      <td>B-PER</td>\n",
       "    </tr>\n",
       "    <tr>\n",
       "      <th>1</th>\n",
       "      <td>0</td>\n",
       "      <td>anak_ririh</td>\n",
       "      <td>0</td>\n",
       "      <td>Karsa</td>\n",
       "      <td>I-PER</td>\n",
       "    </tr>\n",
       "    <tr>\n",
       "      <th>2</th>\n",
       "      <td>0</td>\n",
       "      <td>anak_ririh</td>\n",
       "      <td>0</td>\n",
       "      <td>ajaka</td>\n",
       "      <td>O</td>\n",
       "    </tr>\n",
       "    <tr>\n",
       "      <th>3</th>\n",
       "      <td>0</td>\n",
       "      <td>anak_ririh</td>\n",
       "      <td>0</td>\n",
       "      <td>pianakne</td>\n",
       "      <td>B-OBJ</td>\n",
       "    </tr>\n",
       "    <tr>\n",
       "      <th>4</th>\n",
       "      <td>0</td>\n",
       "      <td>anak_ririh</td>\n",
       "      <td>0</td>\n",
       "      <td>muani</td>\n",
       "      <td>I-OBJ</td>\n",
       "    </tr>\n",
       "    <tr>\n",
       "      <th>5</th>\n",
       "      <td>0</td>\n",
       "      <td>anak_ririh</td>\n",
       "      <td>0</td>\n",
       "      <td>nanggap</td>\n",
       "      <td>O</td>\n",
       "    </tr>\n",
       "    <tr>\n",
       "      <th>6</th>\n",
       "      <td>0</td>\n",
       "      <td>anak_ririh</td>\n",
       "      <td>0</td>\n",
       "      <td>upah</td>\n",
       "      <td>O</td>\n",
       "    </tr>\n",
       "    <tr>\n",
       "      <th>7</th>\n",
       "      <td>0</td>\n",
       "      <td>anak_ririh</td>\n",
       "      <td>0</td>\n",
       "      <td>ngae</td>\n",
       "      <td>O</td>\n",
       "    </tr>\n",
       "    <tr>\n",
       "      <th>8</th>\n",
       "      <td>0</td>\n",
       "      <td>anak_ririh</td>\n",
       "      <td>0</td>\n",
       "      <td>semer</td>\n",
       "      <td>O</td>\n",
       "    </tr>\n",
       "    <tr>\n",
       "      <th>9</th>\n",
       "      <td>0</td>\n",
       "      <td>anak_ririh</td>\n",
       "      <td>0</td>\n",
       "      <td>di</td>\n",
       "      <td>O</td>\n",
       "    </tr>\n",
       "  </tbody>\n",
       "</table>\n",
       "</div>"
      ],
      "text/plain": [
       "   StoryID    Sentence  SentenceID      Word    Tag\n",
       "0        0  anak_ririh           0       Pan  B-PER\n",
       "1        0  anak_ririh           0     Karsa  I-PER\n",
       "2        0  anak_ririh           0     ajaka      O\n",
       "3        0  anak_ririh           0  pianakne  B-OBJ\n",
       "4        0  anak_ririh           0     muani  I-OBJ\n",
       "5        0  anak_ririh           0   nanggap      O\n",
       "6        0  anak_ririh           0      upah      O\n",
       "7        0  anak_ririh           0      ngae      O\n",
       "8        0  anak_ririh           0     semer      O\n",
       "9        0  anak_ririh           0        di      O"
      ]
     },
     "execution_count": 5,
     "metadata": {},
     "output_type": "execute_result"
    }
   ],
   "source": [
    "#Display first 10 rows\n",
    "df.head(10)"
   ]
  },
  {
   "cell_type": "code",
   "execution_count": 6,
   "metadata": {},
   "outputs": [
    {
     "data": {
      "text/html": [
       "<div>\n",
       "<style scoped>\n",
       "    .dataframe tbody tr th:only-of-type {\n",
       "        vertical-align: middle;\n",
       "    }\n",
       "\n",
       "    .dataframe tbody tr th {\n",
       "        vertical-align: top;\n",
       "    }\n",
       "\n",
       "    .dataframe thead th {\n",
       "        text-align: right;\n",
       "    }\n",
       "</style>\n",
       "<table border=\"1\" class=\"dataframe\">\n",
       "  <thead>\n",
       "    <tr style=\"text-align: right;\">\n",
       "      <th></th>\n",
       "      <th>StoryID</th>\n",
       "      <th>SentenceID</th>\n",
       "    </tr>\n",
       "  </thead>\n",
       "  <tbody>\n",
       "    <tr>\n",
       "      <th>count</th>\n",
       "      <td>89939.000000</td>\n",
       "      <td>89939.000000</td>\n",
       "    </tr>\n",
       "    <tr>\n",
       "      <th>mean</th>\n",
       "      <td>80.056527</td>\n",
       "      <td>37.846396</td>\n",
       "    </tr>\n",
       "    <tr>\n",
       "      <th>std</th>\n",
       "      <td>50.128946</td>\n",
       "      <td>38.093724</td>\n",
       "    </tr>\n",
       "    <tr>\n",
       "      <th>min</th>\n",
       "      <td>0.000000</td>\n",
       "      <td>0.000000</td>\n",
       "    </tr>\n",
       "    <tr>\n",
       "      <th>25%</th>\n",
       "      <td>34.000000</td>\n",
       "      <td>13.000000</td>\n",
       "    </tr>\n",
       "    <tr>\n",
       "      <th>50%</th>\n",
       "      <td>71.000000</td>\n",
       "      <td>27.000000</td>\n",
       "    </tr>\n",
       "    <tr>\n",
       "      <th>75%</th>\n",
       "      <td>132.000000</td>\n",
       "      <td>50.000000</td>\n",
       "    </tr>\n",
       "    <tr>\n",
       "      <th>max</th>\n",
       "      <td>168.000000</td>\n",
       "      <td>289.000000</td>\n",
       "    </tr>\n",
       "  </tbody>\n",
       "</table>\n",
       "</div>"
      ],
      "text/plain": [
       "            StoryID    SentenceID\n",
       "count  89939.000000  89939.000000\n",
       "mean      80.056527     37.846396\n",
       "std       50.128946     38.093724\n",
       "min        0.000000      0.000000\n",
       "25%       34.000000     13.000000\n",
       "50%       71.000000     27.000000\n",
       "75%      132.000000     50.000000\n",
       "max      168.000000    289.000000"
      ]
     },
     "execution_count": 6,
     "metadata": {},
     "output_type": "execute_result"
    }
   ],
   "source": [
    "df.describe()"
   ]
  },
  {
   "cell_type": "code",
   "execution_count": 7,
   "metadata": {},
   "outputs": [
    {
     "data": {
      "text/plain": [
       "array(['B-PER', 'I-PER', 'O', 'B-OBJ', 'I-OBJ', 'B-ANM', 'I-ANM',\n",
       "       'B-GODS', 'I-GODS', 'B-ADJ', 'I-ADJ'], dtype=object)"
      ]
     },
     "execution_count": 7,
     "metadata": {},
     "output_type": "execute_result"
    }
   ],
   "source": [
    "#Displaying the unique Tags\n",
    "df['Tag'].unique()"
   ]
  },
  {
   "cell_type": "code",
   "execution_count": 8,
   "metadata": {},
   "outputs": [
    {
     "data": {
      "text/plain": [
       "StoryID       0\n",
       "Sentence      0\n",
       "SentenceID    0\n",
       "Word          0\n",
       "Tag           0\n",
       "dtype: int64"
      ]
     },
     "execution_count": 8,
     "metadata": {},
     "output_type": "execute_result"
    }
   ],
   "source": [
    "#Checking null values, if any.\n",
    "df.isnull().sum()"
   ]
  },
  {
   "cell_type": "markdown",
   "metadata": {},
   "source": [
    "There are lots of missing values in 'Sentence #' attribute. So we will use pandas fillna technique and use 'ffill' method which propagates last valid observation forward to next."
   ]
  },
  {
   "cell_type": "code",
   "execution_count": 9,
   "metadata": {},
   "outputs": [
    {
     "name": "stderr",
     "output_type": "stream",
     "text": [
      "C:\\Users\\Kameliya Putri\\AppData\\Local\\Temp\\ipykernel_4084\\439241999.py:1: FutureWarning: DataFrame.fillna with 'method' is deprecated and will raise in a future version. Use obj.ffill() or obj.bfill() instead.\n",
      "  df = df.fillna(method = 'ffill')\n"
     ]
    }
   ],
   "source": [
    "df = df.fillna(method = 'ffill')"
   ]
  },
  {
   "cell_type": "code",
   "execution_count": 10,
   "metadata": {},
   "outputs": [],
   "source": [
    "# Memproses dataset untuk mengelompokkan per kalimat\n",
    "class SentenceGetter:\n",
    "    def __init__(self, data):\n",
    "        self.data = data\n",
    "        self.grouped = data.groupby(\"SentenceID\").apply(\n",
    "            lambda s: [(w, t) for w, t in zip(s[\"Word\"].values.tolist(),\n",
    "                                                    s[\"Tag\"].values.tolist())]\n",
    "        )\n",
    "        self.sentences = [sentence for sentence in self.grouped]"
   ]
  },
  {
   "cell_type": "code",
   "execution_count": 11,
   "metadata": {},
   "outputs": [
    {
     "name": "stdout",
     "output_type": "stream",
     "text": [
      "Contoh kalimat pertama: [('Pan', 'B-PER'), ('Karsa', 'I-PER'), ('ajaka', 'O'), ('pianakne', 'B-OBJ'), ('muani', 'I-OBJ'), ('nanggap', 'O'), ('upah', 'O'), ('ngae', 'O'), ('semer', 'O'), ('di', 'O'), ('sisin', 'O'), ('rurunge', 'O'), ('gede', 'O'), ('.', 'O'), ('Ada', 'O'), ('katuturan', 'O'), ('satua', 'O'), ('I', 'B-ANM'), ('Angsa', 'I-ANM'), ('masawitra', 'O'), ('teken', 'O'), ('I', 'B-ANM'), ('Kerkuak', 'B-ANM'), ('.', 'O'), ('Kacerita', 'O'), ('Sang', 'B-GODS'), ('Hyang', 'I-GODS'), ('Indra', 'I-GODS'), ('kalintang', 'O'), ('sungsut', 'O'), ('santukan', 'O'), ('Ida', 'O'), ('mireng', 'O'), ('orti', 'O'), ('Indraloka', 'O'), ('pacang', 'O'), ('kagebugin', 'O'), ('olih', 'O'), ('Niwatakawaca', 'B-GODS'), ('ratun', 'O'), ('raksasane', 'O'), ('ring', 'O'), ('Manimantaka', 'O'), ('.', 'O'), ('Wenten', 'O'), ('kocap', 'O'), ('katuturan', 'O'), ('satua', 'O'), ('saking', 'O'), ('jagat', 'O'), ('Jembrana', 'O'), ('sane', 'O'), ('sampun', 'O'), ('lumbrah', 'O'), ('kabaosang', 'O'), ('antuk', 'O'), ('para', 'O'), ('janane', 'O'), ('sane', 'O'), ('seneng', 'O'), ('ka', 'O'), ('tajen', 'O'), ('wenten', 'O'), ('kabaos', 'O'), ('ayam', 'O'), ('ijo', 'O'), ('sane', 'O'), ('mawasta', 'O'), ('Ijo', 'B-ANM'), ('Sambu', 'I-ANM'), ('nanging', 'O'), ('kawentenane', 'O'), ('arang', 'O'), ('pisan', 'O'), ('.', 'O'), ('Makawinan', 'O'), ('wenten', 'O'), ('ayam', 'O'), ('sangkur', 'O'), ('tan', 'O'), ('wenten', 'O'), ('ngelah', 'O'), ('kibul', 'O'), ('punika', 'O'), ('wenten', 'O'), ('nyatuaang', 'O'), ('.', 'O'), ('kacerita', 'O'), ('ada', 'O'), ('bendega', 'O'), ('madan', 'O'), ('Narajana', 'B-PER'), ('.', 'O'), ('Kacerita', 'O'), ('ada', 'O'), ('anak', 'O'), ('muani', 'O'), ('belog', 'O'), ('madan', 'O'), ('I', 'B-ADJ'), ('Belog', 'I-ADJ'), ('.', 'O'), ('kacerita', 'O'), ('maharaja', 'B-PER'), ('Pretu', 'I-PER'), ('dadi', 'O'), ('ratu', 'O'), ('luih', 'O'), ('dijagate', 'O'), ('.', 'O'), ('Kacerita', 'O'), ('dugese', 'O'), ('pidan', 'O'), ('ada', 'O'), ('pandita', 'B-GODS'), ('sakti', 'I-GODS'), ('mapesengan', 'O'), ('Bhagawan', 'B-GODS'), ('Domia', 'B-GODS'), ('.', 'O'), ('kacerita', 'O'), ('ada', 'O'), ('anak', 'O'), ('makurenan', 'O'), ('madan', 'O'), ('Men', 'B-ADJ'), ('Bekung', 'I-ADJ'), ('teken', 'O'), ('Pan', 'B-ADJ'), ('Bekung', 'I-ADJ'), ('.', 'O'), ('Sawatara', 'O'), ('suba', 'O'), ('pitung', 'O'), ('dina', 'O'), ('makelone', 'O'), ('Ni', 'B-PER'), ('Murdani', 'I-PER'), ('negak', 'O'), ('mapangenan', 'O'), ('duur', 'O'), ('punyan', 'O'), ('kayune', 'O'), ('.', 'O'), ('Wenten', 'O'), ('katuturan', 'O'), ('satua', 'O'), ('jadma', 'O'), ('sane', 'O'), ('madue', 'O'), ('pakubon', 'O'), ('ring', 'O'), ('pagunungan', 'O'), ('.', 'O'), ('Ada', 'O'), ('kone', 'O'), ('anak', 'O'), ('luh', 'O'), ('balu', 'O'), ('madan', 'O'), ('Men', 'B-PER'), ('Bekung', 'I-PER'), ('.', 'O'), ('Ada', 'O'), ('kone', 'O'), ('tururan', 'O'), ('satua', 'O'), ('Be', 'O'), ('Bano', 'O'), ('.', 'O'), ('Duk', 'O'), ('sane', 'O'), ('riin', 'O'), ('wenten', 'O'), ('katuturan', 'O'), ('satua', 'O'), ('indik', 'O'), ('kawentenan', 'O'), ('Telaga', 'O'), ('sane', 'O'), ('mawasta', 'O'), ('Telaga', 'O'), ('Alpasara', 'O'), ('.', 'O'), ('Suba', 'O'), ('uling', 'O'), ('limang', 'O'), ('dina', 'O'), ('Cicing', 'B-ANM'), ('Alas', 'I-ANM'), ('majalan', 'O'), ('sambilanga', 'O'), ('ngeling', 'O'), ('.', 'O'), ('Kacerita', 'O'), ('dugase', 'O'), ('imalu', 'O'), ('ada', 'O'), ('kone', 'O'), ('anak', 'O'), ('tua', 'O'), ('luh', 'O'), ('maadan', 'O'), ('Ni', 'B-PER'), ('Jepun', 'I-PER'), ('.', 'O'), ('kacerita', 'O'), ('Raja', 'B-PER'), ('Sura', 'I-PER'), ('madue', 'O'), ('putra', 'O'), ('kakalih', 'O'), ('sane', 'O'), ('lanang', 'O'), ('mapesengan', 'O'), ('Wasudewa', 'B-PER'), ('miwah', 'O'), ('sane', 'O'), ('istri', 'O'), ('mapesengan', 'O'), ('Dewi', 'B-PER'), ('Pritha', 'I-PER'), ('.', 'O'), ('Saantukan', 'O'), ('sang', 'B-PER'), ('Ekalawya', 'I-PER'), ('tan', 'O'), ('katerima', 'O'), ('dados', 'O'), ('sisia', 'O'), ('olih', 'O'), ('bhagawan', 'B-GODS'), ('Drona', 'I-GODS'), ('raris', 'O'), ('melayu', 'O'), ('kaalase', 'O'), ('.', 'O'), ('Di', 'O'), ('panegara', 'O'), ('madang', 'O'), ('Kemulan', 'O'), ('ada', 'O'), ('sang', 'B-PER'), ('Prabu', 'I-PER'), ('Beksa', 'I-PER'), ('madue', 'O'), ('putra', 'O'), ('papitu', 'O'), ('makasami', 'O'), ('istriistri', 'O'), ('.', 'O'), ('Ada', 'O'), ('anak', 'O'), ('muani', 'O'), ('bajang', 'O'), ('madan', 'O'), ('I', 'B-ADJ'), ('Getap', 'I-ADJ'), ('.', 'O'), ('Di', 'O'), ('tegalan', 'O'), ('ane', 'O'), ('linggah', 'O'), ('liu', 'O'), ('mentik', 'O'), ('sarwa', 'O'), ('tumuwuh', 'O'), ('ada', 'O'), ('ane', 'O'), ('mebunga', 'O'), ('ada', 'O'), ('masi', 'O'), ('ane', 'O'), ('mabuah', 'O'), ('nged', 'O'), ('.', 'O'), ('Kacerita', 'O'), ('ada', 'O'), ('anak', 'O'), ('muani', 'O'), ('maumah', 'O'), ('di', 'O'), ('Banjar', 'O'), ('Kawanan', 'O'), ('ngelah', 'O'), ('kurenan', 'O'), ('suba', 'O'), ('mati', 'O'), ('.', 'O'), ('Ada', 'O'), ('kone', 'O'), ('tuturan', 'O'), ('satua', 'O'), ('I', 'B-ANM'), ('Baluan', 'I-ANM'), ('.', 'O'), ('Ada', 'O'), ('kone', 'O'), ('katuturan', 'O'), ('satua', 'O'), ('sedek', 'O'), ('Ida', 'B-PER'), ('Sang', 'I-PER'), ('Prabu', 'I-PER'), ('di', 'O'), ('Daha', 'O'), ('kaicalan', 'O'), ('basang', 'O'), ('siap', 'O'), ('mapanggang', 'O'), ('lantas', 'O'), ('ida', 'O'), ('sauh', 'O'), ('pangandika', 'O'), ('baan', 'O'), ('ida', 'O'), ('tan', 'O'), ('minaen', 'O'), ('teken', 'O'), ('prameswarine', 'B-OBJ'), ('ngrayunang', 'O'), ('basang', 'O'), ('siape', 'O'), ('totonan', 'O'), ('.', 'O'), ('Ada', 'O'), ('katuturan', 'O'), ('satua', 'O'), ('anak', 'O'), ('belog', 'O'), ('.', 'O'), ('Kacerita', 'O'), ('I', 'B-ADJ'), ('Belog', 'I-ADJ'), ('dot', 'O'), ('ngetel', 'O'), ('lakar', 'O'), ('nganten', 'O'), ('ngajak', 'O'), ('Luh', 'B-PER'), ('Sari', 'I-PER'), ('.', 'O'), ('Kacerita', 'O'), ('ada', 'O'), ('anak', 'O'), ('muani', 'O'), ('madan', 'O'), ('I', 'B-ADJ'), ('Belog', 'I-ADJ'), ('.', 'O'), ('Dugase', 'O'), ('malu', 'O'), ('ada', 'O'), ('kone', 'O'), ('anak', 'O'), ('muani', 'O'), ('madan', 'O'), ('I', 'B-ADJ'), ('Belog', 'I-ADJ'), ('ia', 'O'), ('makantenan', 'O'), ('ngajak', 'O'), ('Pan', 'B-PER'), ('Sari', 'I-PER'), ('.', 'O'), ('Ada', 'O'), ('tuturan', 'O'), ('satua', 'O'), ('I', 'B-ADJ'), ('Belog', 'I-ADJ'), ('geginanne', 'O'), ('melali', 'O'), ('teken', 'O'), ('medaar', 'O'), ('dogen', 'O'), ('.', 'O'), ('Ada', 'O'), ('katuturan', 'O'), ('satua', 'O'), ('pangangon', 'O'), ('bebek', 'O'), ('madan', 'O'), ('Pan', 'B-PER'), ('Meri', 'I-PER'), ('.', 'O'), ('Kacerita', 'O'), ('di', 'O'), ('bencingah', 'O'), ('Jagat', 'O'), ('Daha', 'O'), ('ada', 'O'), ('kone', 'O'), ('pondok', 'O'), ('ane', 'O'), ('misi', 'O'), ('jeding', 'O'), ('liu', 'O'), ('pesan', 'O'), ('makawadah', 'O'), ('susu', 'O'), ('.', 'O'), ('Kacerita', 'O'), ('ada', 'O'), ('kone', 'O'), ('kedis', 'B-ANM'), ('sangsiah', 'I-ANM'), ('luh', 'I-ANM'), ('muani', 'I-ANM'), ('itep', 'O'), ('ia', 'O'), ('ngajang', 'O'), ('sebun', 'O'), ('sawireh', 'O'), ('suba', 'O'), ('lakar', 'O'), ('ngereang', 'O'), ('mataluh', 'O'), ('.', 'O'), ('Kacerita', 'O'), ('I', 'B-PER'), ('Botol', 'I-PER'), ('ia', 'O'), ('luas', 'O'), ('ka', 'O'), ('tengah', 'O'), ('alase', 'O'), ('lakar', 'O'), ('ngalih', 'O'), ('saang', 'O'), ('.', 'O'), ('Di', 'O'), ('desa', 'O'), ('Anu', 'O'), ('ada', 'O'), ('anak', 'O'), ('tiwas', 'O'), ('panyamaan', 'O'), ('ajaka', 'O'), ('dadua', 'O'), ('.', 'O'), ('Kacerita', 'O'), ('di', 'O'), ('Desa', 'O'), ('Keladian', 'O'), ('ada', 'O'), ('anak', 'O'), ('muani', 'O'), ('maadan', 'O'), ('I', 'B-PER'), ('Celempung', 'I-PER'), ('.', 'O'), ('Nah', 'O'), ('ada', 'O'), ('kone', 'O'), ('tuturan', 'O'), ('satua', 'O'), ('I', 'B-ANM'), ('Cicing', 'I-ANM'), ('Gudig', 'I-ANM'), ('.', 'O'), ('Di', 'O'), ('maluan', 'O'), ('dugase', 'O'), ('burone', 'B-ANM'), ('enu', 'O'), ('saling', 'O'), ('asah', 'O'), ('saling', 'O'), ('asuh', 'O'), ('ada', 'O'), ('cicing', 'B-ANM'), ('teken', 'O'), ('kambing', 'B-ANM'), ('masawitrayan', 'O'), ('.', 'O'), ('Dugese', 'O'), ('malu', 'O'), ('di', 'O'), ('sisin', 'O'), ('alase', 'O'), ('kauh', 'O'), ('ada', 'O'), ('kone', 'O'), ('anak', 'O'), ('mondok', 'O'), ('pedidiana', 'O'), ('madan', 'O'), ('I', 'B-PER'), ('Cita', 'I-PER'), ('.', 'O'), ('Ada', 'O'), ('tuturan', 'O'), ('satua', 'O'), ('I', 'B-ANM'), ('Clalongan', 'I-ANM'), ('demen', 'O'), ('idup', 'O'), ('matinggah', 'O'), ('di', 'O'), ('carangcarang', 'O'), ('kayune', 'O'), ('.', 'O'), ('Ri', 'O'), ('sedek', 'O'), ('dina', 'O'), ('semengan', 'O'), ('para', 'O'), ('bendegane', 'O'), ('ring', 'O'), ('Desa', 'O'), ('Nyalyan', 'O'), ('pada', 'O'), ('sebet', 'O'), ('nyiageyang', 'O'), ('sakancan', 'O'), ('paaban', 'O'), ('tur', 'O'), ('bekel', 'O'), ('sane', 'O'), ('lakar', 'O'), ('kabakta', 'O'), ('nempuhin', 'O'), ('segarane', 'O'), ('.', 'O'), ('Kacarita', 'O'), ('ada', 'O'), ('reko', 'O'), ('satua', 'O'), ('anak', 'O'), ('truna', 'O'), ('lacur', 'O'), ('mala', 'O'), ('pengkoh', 'O'), ('kejer', 'O'), ('dopang', 'O'), ('meyag-meyog', 'O'), ('awakne', 'O'), ('makaukud', 'O'), ('.', 'O'), ('Ada', 'O'), ('tuturan', 'O'), ('satua', 'O'), ('anak', 'B-OBJ'), ('muani', 'I-OBJ'), ('madan', 'O'), ('I', 'B-PER'), ('Rajapala', 'I-PER'), ('makurenan', 'O'), ('ngajak', 'O'), ('dedari', 'O'), ('madan', 'O'), ('ken', 'B-GODS'), ('Sulasih', 'I-GODS'), ('.', 'O'), ('Ada', 'O'), ('kone', 'O'), ('tuturtuturan', 'O'), ('satua', 'O'), ('i', 'B-ANM'), ('empas', 'I-ANM'), ('luh', 'I-ANM'), ('muani', 'I-ANM'), ('nongos', 'O'), ('di', 'O'), ('tlagane', 'O'), ('gede', 'O'), ('bek', 'O'), ('misi', 'O'), ('lumut', 'O'), ('katangkatang', 'O'), ('muah', 'O'), ('sekancan', 'O'), ('bungan', 'O'), ('tunjung', 'O'), ('ane', 'O'), ('sedekan', 'O'), ('mabunga', 'O'), ('.', 'O'), ('kacerita', 'O'), ('wenten', 'O'), ('reke', 'O'), ('empas', 'B-ANM'), ('kekalih', 'I-ANM'), ('lua', 'I-ANM'), ('muani', 'I-ANM'), ('.', 'O'), ('Kacerita', 'O'), ('ada', 'O'), ('anak', 'O'), ('tua', 'O'), ('siteng', 'O'), ('ngelah', 'O'), ('pianak', 'O'), ('aukud', 'O'), ('madan', 'O'), ('I', 'B-PER'), ('Wayan', 'I-PER'), ('Tigaron', 'I-PER'), ('.', 'O'), ('Kacerita', 'O'), ('ada', 'O'), ('jaran', 'B-ANM'), ('sedekan', 'O'), ('itep', 'O'), ('ngamah', 'O'), ('padang', 'O'), ('di', 'O'), ('sisin', 'O'), ('alase', 'O'), ('wayah', 'O'), ('katugtug', 'O'), ('ban', 'O'), ('pianakne', 'B-OBJ'), ('dadua', 'I-OBJ'), ('lua', 'I-OBJ'), ('muani', 'I-OBJ'), ('.', 'O'), ('Kacerita', 'O'), ('mangkin', 'O'), ('wenten', 'O'), ('Kasiapa', 'B-ANM'), ('Kepuh', 'I-ANM'), ('mentik', 'O'), ('di', 'O'), ('tegale', 'O'), ('ane', 'O'), ('linggah', 'O'), ('.', 'O'), ('Wenten', 'O'), ('katuturan', 'O'), ('satua', 'O'), ('madan', 'O'), ('I', 'B-PER'), ('Kecut', 'I-PER'), ('.', 'O'), ('Ade', 'O'), ('tuturan', 'O'), ('satua', 'O'), ('kedis', 'B-ANM'), ('gelatik', 'I-ANM'), ('ajake', 'O'), ('nyama', 'O'), ('nyamane', 'O'), ('ane', 'O'), ('ngelah', 'O'), ('sebun', 'O'), ('di', 'O'), ('garasi', 'O'), ('.', 'O'), ('Ada', 'O'), ('kone', 'O'), ('tuturan', 'O'), ('satua', 'O'), ('di', 'O'), ('panegara', 'O'), ('Sunantara', 'O'), ('ada', 'O'), ('kone', 'O'), ('sang', 'B-PER'), ('prabu', 'I-PER'), ('kalintang', 'O'), ('kasub', 'O'), ('wibuhing', 'O'), ('bala', 'O'), ('jagate', 'O'), ('.', 'O'), ('Kacarita', 'O'), ('di', 'O'), ('tengah', 'O'), ('tegale', 'O'), ('linggah', 'O'), ('ada', 'O'), ('punyan', 'B-ANM'), ('kepuh', 'I-ANM'), ('gede', 'I-ANM'), ('tur', 'I-ANM'), ('tegeh', 'I-ANM'), ('.', 'O'), ('Ada', 'O'), ('katuturan', 'O'), ('satua', 'O'), ('anak', 'O'), ('muani', 'O'), ('madan', 'O'), ('I', 'B-PER'), ('Kerug', 'I-PER'), ('.', 'O'), ('Di', 'O'), ('alase', 'O'), ('wayah', 'O'), ('ane', 'O'), ('lintang', 'O'), ('madurgama', 'O'), ('tur', 'O'), ('serbi', 'O'), ('liu', 'O'), ('kone', 'O'), ('ada', 'O'), ('beburonan', 'B-ANM'), ('nongos', 'O'), ('ditu', 'O'), ('.', 'O'), ('Di', 'O'), ('alase', 'O'), ('kaja', 'O'), ('ada', 'O'), ('kone', 'O'), ('I', 'B-ANM'), ('Keker', 'I-ANM'), ('sedekan', 'O'), ('indeng-indeng', 'O'), ('ngalih', 'O'), ('amah-amahan', 'O'), ('.', 'O'), ('Kacerita', 'O'), ('ring', 'O'), ('gumi', 'O'), ('Dahane', 'O'), ('ada', 'O'), ('kone', 'O'), ('anak', 'O'), ('cerik', 'O'), ('madan', 'O'), ('I', 'B-ADJ'), ('Lacur', 'I-ADJ'), ('.', 'O'), ('Dugese', 'O'), ('pidan', 'O'), ('ada', 'O'), ('kone', 'O'), ('anak', 'O'), ('muani', 'O'), ('ubuh', 'O'), ('madan', 'O'), ('I', 'B-PER'), ('Langgana', 'I-PER'), ('.', 'O'), ('Ada', 'O'), ('kone', 'O'), ('anak', 'O'), ('cerik', 'O'), ('ubuh', 'O'), ('muani', 'O'), ('madan', 'O'), ('I', 'B-PER'), ('Lara', 'I-PER'), ('.', 'O'), ('Dugase', 'O'), ('i', 'O'), ('malu', 'O'), ('kacerita', 'O'), ('di', 'O'), ('gumine', 'O'), ('konden', 'O'), ('ade', 'O'), ('jelema', 'O'), ('mara', 'O'), ('ade', 'O'), ('taro', 'O'), ('tekening', 'O'), ('buron', 'O'), ('dogen', 'O'), ('.', 'O'), ('I', 'O'), ('pidan', 'O'), ('ada', 'O'), ('kone', 'O'), ('alas', 'O'), ('madurgama', 'O'), ('kawawa', 'O'), ('ban', 'O'), ('I', 'B-ANM'), ('Sangmong', 'I-ANM'), ('.', 'O'), ('Di', 'O'), ('telaga', 'O'), ('ane', 'O'), ('ening', 'O'), ('misi', 'O'), ('bungan', 'O'), ('tunjung', 'O'), ('tur', 'O'), ('mabunga', 'O'), ('nedeng', 'O'), ('kembang', 'O'), ('liu', 'O'), ('ada', 'O'), ('katak', 'B-ANM'), ('pada', 'O'), ('megonggang', 'O'), ('girang', 'O'), ('.', 'O'), ('Ada', 'O'), ('kone', 'O'), ('tuturtuturan', 'O'), ('satua', 'O'), ('I', 'O'), ('Lelipi', 'O'), ('.', 'O'), ('kacerita', 'O'), ('ada', 'O'), ('pangangon', 'B-OBJ'), ('sampi', 'I-OBJ'), ('manyama', 'O'), ('ajaka', 'O'), ('pepitu', 'O'), ('.', 'O'), ('Kacerita', 'O'), ('dugas', 'O'), ('dina', 'O'), ('anu', 'O'), ('di', 'O'), ('tengah', 'O'), ('alase', 'O'), ('suryane', 'O'), ('anget', 'O'), ('manyunarin', 'O'), ('sakancan', 'O'), ('taru', 'O'), ('ane', 'O'), ('ada', 'O'), ('.', 'O'), ('Kacerita', 'O'), ('I', 'B-ANM'), ('Lutung', 'I-ANM'), ('ajak', 'O'), ('I', 'B-ANM'), ('Kakua', 'I-ANM'), ('mula', 'O'), ('makantenan', 'O'), ('melah', 'O'), ('pesan', 'O'), ('.', 'O'), ('Ada', 'O'), ('katuturan', 'O'), ('satua', 'O'), ('I', 'B-ADJ'), ('Menceng', 'I-ADJ'), ('matimpal', 'O'), ('ngajak', 'O'), ('I', 'B-ADJ'), ('Polos', 'I-ADJ'), ('.', 'O'), ('Suud', 'O'), ('manyi', 'O'), ('baburone', 'B-ANM'), ('ngalih', 'O'), ('mamahan', 'O'), ('ka', 'O'), ('carike', 'O'), ('.', 'O'), ('Ada', 'O'), ('tuturan', 'O'), ('satua', 'O'), ('I', 'B-PER'), ('Sangging', 'I-PER'), ('Lobangkara', 'I-PER'), ('geginane', 'O'), ('gambar', 'O'), ('dogen', 'O'), ('tur', 'O'), ('dueg', 'O'), ('pesan', 'O'), ('magegambaran', 'O'), ('saisai', 'O'), ('kone', 'O'), ('keto', 'O'), ('dogen', 'O'), ('gegaene', 'O'), ('.', 'O'), ('kacerita', 'O'), ('ring', 'O'), ('alase', 'O'), ('wenten', 'O'), ('buron', 'O'), ('madan', 'O'), ('I', 'B-ANM'), ('Kancil', 'I-ANM'), ('.', 'O'), ('Kacarita', 'O'), ('ada', 'O'), ('tuma', 'B-ANM'), ('nongos', 'O'), ('di', 'O'), ('lepitan', 'O'), ('tilam', 'O'), ('anake', 'O'), ('agung', 'O'), ('.', 'O'), ('Ada', 'O'), ('tuturan', 'O'), ('satua', 'O'), ('babotoh', 'O'), ('kembar', 'O'), ('madan', 'O'), ('I', 'B-PER'), ('Pudak', 'I-PER'), ('.', 'O'), ('Ada', 'O'), ('tuturan', 'O'), ('satua', 'O'), ('anak', 'O'), ('ubuh', 'O'), ('.', 'O'), ('Kacerita', 'O'), ('ada', 'O'), ('anak', 'O'), ('ubuh', 'O'), ('menyama', 'O'), ('ajaka', 'O'), ('dadua', 'O'), ('ane', 'O'), ('kelihan', 'O'), ('madan', 'O'), ('I', 'B-PER'), ('Wingsata', 'I-PER'), ('adinne', 'O'), ('madan', 'O'), ('I', 'B-PER'), ('Sigara', 'I-PER'), ('.', 'O'), ('Wenten', 'O'), ('katuturan', 'O'), ('anak', 'O'), ('makurenan', 'O'), ('saking', 'O'), ('desa', 'O'), ('Kalianget', 'O'), ('medue', 'O'), ('oka', 'O'), ('tigang', 'O'), ('diri', 'O'), ('kalih', 'O'), ('okannyane', 'O'), ('sane', 'O'), ('lanang', 'O'), ('miwah', 'O'), ('adiri', 'O'), ('sane', 'O'), ('istri', 'O'), ('.', 'O'), ('Ring', 'O'), ('desa', 'O'), ('pendem', 'O'), ('sane', 'O'), ('dumun', 'O'), ('kabaos', 'O'), ('wenten', 'O'), ('dalang', 'O'), ('lintang', 'O'), ('pradnyan', 'O'), ('mawasta', 'O'), ('gurun', 'B-PER'), ('pagep', 'I-PER'), ('kasub', 'O'), ('ring', 'O'), ('jagat', 'O'), ('Jembrana', 'O'), ('antuk', 'O'), ('wikane', 'O'), ('ngawayang', 'O'), ('.', 'O'), ('Prabu', 'O'), ('Suliawana', 'O'), ('nitahang', 'O'), ('panjak', 'B-OBJ'), ('idane', 'I-OBJ'), ('ngejuk', 'O'), ('kedis', 'B-ANM'), ('Geruda', 'I-ANM'), ('ane', 'O'), ('ngrebeda', 'O'), ('.', 'O'), ('Kacerita', 'O'), ('ada', 'O'), ('kambing', 'O'), ('madan', 'O'), ('Ni', 'B-ANM'), ('Mesaba', 'I-ANM'), ('ngajak', 'O'), ('Ni', 'B-ANM'), ('Wingsali', 'I-ANM'), ('.', 'O'), ('Wenten', 'O'), ('reke', 'O'), ('Gajah', 'B-ANM'), ('ageng', 'I-ANM'), ('ring', 'O'), ('alase', 'O'), ('.', 'O'), ('Ada', 'O'), ('tuturan', 'O'), ('satua', 'O'), ('I', 'B-ANM'), ('Kidang', 'I-ANM'), ('teken', 'O'), ('I', 'B-ANM'), ('Cekcek', 'I-ANM'), ('.', 'O'), ('Kacerita', 'O'), ('I', 'B-ANM'), ('Singa', 'I-ANM'), ('madeg', 'O'), ('ratu', 'O'), ('merintah', 'O'), ('sekancan', 'O'), ('burone', 'O'), ('.', 'O'), ('Ada', 'O'), ('kone', 'O'), ('katuturan', 'O'), ('satua', 'O'), ('I', 'B-ANM'), ('Lutung', 'I-ANM'), ('.', 'O'), ('Ada', 'O'), ('tuturan', 'O'), ('satua', 'O'), ('I', 'B-ANM'), ('Lutung', 'I-ANM'), ('teken', 'O'), ('I', 'B-ANM'), ('Kekua', 'I-ANM'), ('.', 'O'), ('Kacerita', 'O'), ('ada', 'O'), ('I', 'B-ANM'), ('Lutung', 'I-ANM'), ('masawitra', 'O'), ('ajak', 'O'), ('I', 'B-ANM'), ('Kekua', 'I-ANM'), ('.', 'O'), ('ceritayang', 'O'), ('I', 'B-ANM'), ('Lutung', 'I-ANM'), ('malali-lali', 'O'), ('di', 'O'), ('sisin', 'O'), ('alase', 'O'), ('tepukina', 'O'), ('I', 'B-ANM'), ('kambing', 'I-ANM'), ('sedek', 'O'), ('medem', 'O'), ('beten', 'O'), ('kayune', 'O'), ('ngrembun', 'O'), ('.', 'O'), ('Kacerita', 'O'), ('di', 'O'), ('tengah', 'O'), ('alase', 'O'), ('ada', 'O'), ('buron', 'O'), ('makelo', 'O'), ('suba', 'O'), ('mekasihan', 'O'), ('.', 'O'), ('Kacarita', 'O'), ('di', 'O'), ('tengah', 'O'), ('alase', 'O'), ('ada', 'O'), ('macan', 'B-ANM'), ('makasian', 'O'), ('teken', 'O'), ('meng', 'B-ANM'), ('.', 'O'), ('Dugas', 'O'), ('ipidan', 'O'), ('di', 'O'), ('Pulina', 'O'), ('Bali', 'O'), ('ada', 'O'), ('kone', 'O'), ('raja', 'O'), ('raksasa', 'O'), ('ane', 'O'), ('kaliwat', 'O'), ('sakti', 'O'), ('maparab', 'O'), ('Maya', 'B-GODS'), ('Danawa', 'I-GODS'), ('.', 'O'), ('Kacerita', 'O'), ('ada', 'O'), ('anak', 'O'), ('makurenan', 'O'), ('ngelah', 'O'), ('pianak', 'O'), ('plekutus', 'O'), ('liunne', 'O'), ('luh-muani', 'O'), ('kayang', 'O'), ('ane', 'O'), ('enu', 'O'), ('di', 'O'), ('basangne', 'O'), ('.', 'O'), ('Ada', 'O'), ('katururan', 'O'), ('satua', 'O'), ('Men', 'B-ADJ'), ('Sugih', 'I-ADJ'), ('teken', 'O'), ('Men', 'B-ADJ'), ('Tiwas', 'I-ADJ'), ('.', 'O'), ('kacerita', 'O'), ('di', 'O'), ('desa', 'O'), ('anu', 'O'), ('ada', 'O'), ('anak', 'O'), ('mapungkusan', 'O'), ('madan', 'O'), ('Nang', 'B-PER'), ('Cubling', 'I-PER'), ('.', 'O'), ('Ada', 'O'), ('tuturan', 'O'), ('satua', 'O'), ('anak', 'O'), ('makurenan', 'O'), ('ngelah', 'O'), ('kone', 'O'), ('pianak', 'O'), ('luh-luh', 'O'), ('duang', 'O'), ('diri', 'O'), ('.', 'O'), ('Kacritayang', 'O'), ('ring', 'O'), ('desa', 'O'), ('anu', 'O'), ('kocap', 'O'), ('wenten', 'O'), ('anak', 'O'), ('istri', 'O'), ('Daha', 'O'), ('tua', 'O'), ('mawasta', 'O'), ('Ni', 'B-PER'), ('Daha', 'I-PER'), ('Tua', 'I-PER'), ('.', 'O'), ('kacerita', 'O'), ('sang', 'O'), ('bupati', 'O'), ('ring', 'O'), ('Patali', 'O'), ('nagantun', 'O'), ('dahating', 'O'), ('subaga', 'O'), ('wirya', 'O'), ('wyakti', 'O'), ('ratu', 'O'), ('wibuh', 'O'), ('kabyuhaning', 'O'), ('wadwa', 'O'), ('kajerihin', 'O'), ('antuk', 'O'), ('para', 'B-OBJ'), ('ratune', 'I-OBJ'), ('sawewengkoning', 'O'), ('Jambuwarsadwipa', 'O'), ('samian', 'O'), ('reke', 'O'), ('ngaturang', 'O'), ('upeti', 'O'), ('ngawarsa', 'O'), ('.', 'O'), ('Ada', 'O'), ('reko', 'O'), ('tuturan', 'O'), ('satua', 'O'), ('Ni', 'O'), ('Dukun', 'O'), ('Sakti', 'O'), ('.', 'O'), ('Kacerita', 'O'), ('para', 'B-GODS'), ('dewatane', 'I-GODS'), ('Detia', 'B-GODS'), ('miwah', 'O'), ('danawane', 'B-GODS'), ('parum', 'O'), ('ring', 'O'), ('pucak', 'O'), ('gunung', 'O'), ('Mahameru', 'O'), ('sane', 'O'), ('kabaosang', 'O'), ('indik', 'O'), ('upayane', 'O'), ('mangda', 'O'), ('mikolihang', 'O'), ('Tirta', 'O'), ('Amreta', 'O'), ('.', 'O'), ('kacerita', 'O'), ('di', 'O'), ('desa', 'O'), ('Anu', 'O'), ('ada', 'O'), ('kone', 'O'), ('anak', 'O'), ('madan', 'O'), ('Pan', 'B-PER'), ('Angklung', 'I-PER'), ('Gadang', 'I-PER'), ('.', 'O'), ('Ada', 'O'), ('reko', 'O'), ('anak', 'O'), ('madan', 'O'), ('Pan', 'B-ADJ'), ('Balang', 'I-ADJ'), ('Tamak', 'I-ADJ'), ('maumah', 'O'), ('di', 'O'), ('desa', 'O'), ('anu', 'O'), ('.', 'O'), ('Ada', 'O'), ('katuturan', 'O'), ('satua', 'O'), ('anak', 'O'), ('makurenan', 'O'), ('madan', 'O'), ('Pan', 'B-PER'), ('Jempenit', 'I-PER'), ('teken', 'O'), ('Men', 'B-PER'), ('Jempenit', 'I-PER'), ('.', 'O'), ('Ada', 'O'), ('tuturan', 'O'), ('satua', 'O'), ('madan', 'O'), ('Pan', 'B-PER'), ('Poleng', 'I-PER'), ('.', 'O'), ('Ada', 'O'), ('tuturan', 'O'), ('satua', 'O'), ('Pan', 'B-PER'), ('Tuung', 'I-PER'), ('Kuning', 'I-PER'), ('teken', 'O'), ('Men', 'B-PER'), ('Tuung', 'I-PER'), ('Kuning', 'I-PER'), ('.', 'O'), ('Kacerita', 'O'), ('di', 'O'), ('desa', 'O'), ('anu', 'O'), ('ada', 'O'), ('kone', 'O'), ('anak', 'O'), ('muani', 'O'), ('tua', 'O'), ('panyalah', 'O'), ('tur', 'O'), ('pacul', 'O'), ('madan', 'O'), ('Pan', 'B-PER'), ('Mangut', 'I-PER'), ('.', 'O'), ('Kacritayang', 'O'), ('wenten', 'O'), ('reke', 'O'), ('kedis', 'O'), ('putih', 'O'), ('mabaong', 'O'), ('lantang', 'O'), ('mawasta', 'O'), ('I', 'B-ANM'), ('Kedis', 'I-ANM'), ('cangak', 'I-ANM'), ('sane', 'O'), ('ring', 'O'), ('carita', 'O'), ('puniki', 'O'), ('kabaos', 'O'), ('padanda', 'B-GODS'), ('baka', 'I-GODS'), ('.', 'O'), ('Wenten', 'O'), ('pranata', 'O'), ('mabiseka', 'O'), ('Prabu', 'B-PER'), ('Pajajaran', 'I-PER'), ('maputra', 'O'), ('mabiseka', 'O'), ('Raden', 'B-PER'), ('Jajarpikatan', 'I-PER'), ('.', 'O'), ('Kacerita', 'O'), ('ditu', 'O'), ('di', 'O'), ('dajan', 'O'), ('tukad', 'O'), ('Ganggane', 'O'), ('ada', 'O'), ('panagara', 'O'), ('ageng', 'O'), ('tur', 'O'), ('kabinawa', 'O'), ('kadi', 'O'), ('Taman', 'O'), ('Indra', 'O'), ('Buana', 'O'), ('di', 'O'), ('mercapada', 'O'), ('madan', 'O'), ('Jagat', 'O'), ('Kosala', 'O'), ('.', 'O'), ('kacerita', 'O'), ('Ida', 'B-PER'), ('Sang', 'I-PER'), ('Prabhu', 'I-PER'), ('di', 'O'), ('Daha', 'O'), ('madue', 'O'), ('oka', 'O'), ('asiki', 'O'), ('Istri', 'O'), ('.', 'O'), ('Kacritayang', 'O'), ('wenten', 'O'), ('sengke', 'O'), ('pangkat', 'O'), ('Mayor', 'O'), ('magenah', 'O'), ('ring', 'O'), ('Waciu', 'O'), ('negari', 'O'), ('madue', 'O'), ('pianak', 'O'), ('mawasta', 'O'), ('Ingtai', 'B-PER'), ('Nyonyah', 'I-PER'), ('utawi', 'O'), ('Nyonyah', 'B-PER'), ('Ingtai', 'I-PER'), ('sane', 'O'), ('sampun', 'O'), ('truni', 'O'), ('utawi', 'O'), ('menek', 'O'), ('bajang', 'O'), ('.', 'O'), ('I', 'O'), ('pidan', 'O'), ('ada', 'O'), ('kone', 'O'), ('Sang', 'O'), ('Prabhu', 'O'), ('jumeneng', 'O'), ('Nata', 'O'), ('di', 'O'), ('Swetanegara', 'O'), ('ane', 'O'), ('maparab', 'O'), ('Sang', 'B-PER'), ('Prabhu', 'I-PER'), ('Aji', 'I-PER'), ('Dharma', 'I-PER'), ('.', 'O'), ('Kabaosang', 'O'), ('dawege', 'O'), ('dumun', 'O'), ('wenten', 'O'), ('jagat', 'O'), ('sane', 'O'), ('kawastanin', 'O'), ('jagat', 'O'), ('Majeti', 'O'), ('.', 'O'), ('Sedek', 'O'), ('dina', 'O'), ('anu', 'O'), ('kacerita', 'O'), ('Dewi', 'B-PER'), ('Kunti', 'I-PER'), ('sareng', 'O'), ('maka', 'O'), ('lelima', 'B-OBJ'), ('putranidane', 'I-OBJ'), ('makadi', 'O'), ('Sang', 'B-PER'), ('Darma', 'I-PER'), ('Wangsa', 'I-PER'), ('Sang', 'B-PER'), ('Bima', 'I-PER'), ('Sang', 'B-PER'), ('Arjuna', 'I-PER'), ('Sang', 'B-PER'), ('Nakula', 'I-PER'), ('muah', 'O'), ('Sang', 'B-PER'), ('Sahadewa', 'I-PER'), ('rauh', 'O'), ('di', 'O'), ('Desa', 'O'), ('Ekacakra', 'O'), ('.', 'O'), ('Sedek', 'O'), ('dina', 'O'), ('anu', 'O'), ('nuju', 'O'), ('anake', 'O'), ('rame', 'O'), ('megae', 'O'), ('di', 'O'), ('carik', 'O'), ('ada', 'O'), ('ane', 'O'), ('mara', 'O'), ('nenggala', 'O'), ('nglampit', 'O'), ('muah', 'O'), ('ada', 'O'), ('suba', 'O'), ('mamula', 'O'), ('.', 'O'), ('Ri', 'O'), ('kala', 'O'), ('jadmane', 'O'), ('tedun', 'O'), ('magae', 'O'), ('ring', 'O'), ('carik', 'O'), ('irika', 'O'), ('paksine', 'B-ANM'), ('mapupul', 'O'), ('ngwilang', 'O'), ('teda', 'O'), ('ageng', 'O'), ('alit', 'O'), ('pada', 'O'), ('asri', 'O'), ('tingkahipune', 'O'), ('.', 'O'), ('kacerita', 'O'), ('di', 'O'), ('alas', 'O'), ('Malawane', 'O'), ('ada', 'O'), ('kone', 'O'), ('lembu', 'O'), ('jagiran', 'O'), ('aukud', 'O'), ('madan', 'O'), ('Sang', 'B-ANM'), ('Nandaka', 'I-ANM'), ('.', 'O'), ('Sasampune', 'O'), ('Ida', 'B-PER'), ('Sang', 'I-PER'), ('Barata', 'I-PER'), ('matulak', 'O'), ('budal', 'O'), ('ka', 'O'), ('Ayodia', 'O'), ('kacerita', 'O'), ('mangkin', 'O'), ('Sang', 'B-PER'), ('Rama', 'I-PER'), ('masusupan', 'O'), ('ring', 'O'), ('alase', 'O'), ('.', 'O'), ('I', 'B-ANM'), ('Semut', 'I-ANM'), ('Api', 'I-ANM'), ('luas', 'O'), ('marerod', 'O'), ('ngalih', 'O'), ('mamahan', 'O'), ('di', 'O'), ('tongose', 'O'), ('joh', 'O'), ('.', 'O'), ('Ada', 'O'), ('tuturan', 'O'), ('satua', 'O'), ('ane', 'O'), ('malu', 'O'), ('kacerita', 'O'), ('I', 'B-PER'), ('Pagul', 'I-PER'), ('makurenan', 'O'), ('ajak', 'O'), ('Ni', 'B-PER'), ('Luh', 'I-PER'), ('Lancah', 'I-PER'), ('.', 'O'), ('Ada', 'O'), ('katuturan', 'O'), ('satua', 'O'), ('I', 'B-ANM'), ('Siap', 'I-ANM'), ('Selem', 'I-ANM'), ('ngelah', 'O'), ('pianak', 'O'), ('pepitu', 'O'), ('.', 'O'), ('Ada', 'O'), ('katuturan', 'O'), ('satua', 'O'), ('ane', 'O'), ('malu', 'O'), ('.', 'O'), ('Di', 'O'), ('pasisi', 'O'), ('kangin', 'O'), ('ada', 'O'), ('anak', 'O'), ('mondok', 'O'), ('padidiana', 'O'), ('pesan', 'O'), ('madan', 'O'), ('I', 'B-PER'), ('Aget', 'I-PER'), ('.', 'O'), ('kacerita', 'O'), ('wenten', 'O'), ('pedando', 'B-GODS'), ('mamagi', 'O'), ('nglintangin', 'O'), ('tukad', 'O'), ('nyat', 'O'), ('.', 'O'), ('Katuturan', 'O'), ('dugase', 'O'), ('malu', 'O'), ('kone', 'O'), ('I', 'B-ANM'), ('Lutung', 'I-ANM'), ('ngajak', 'O'), ('I', 'B-ANM'), ('Kekua', 'I-ANM'), ('masawitra', 'O'), ('melah', 'O'), ('pesan', 'O'), ('sakewala', 'O'), ('I', 'B-ANM'), ('Lutung', 'I-ANM'), ('pepesan', 'O'), ('pesan', 'O'), ('suba', 'O'), ('kena', 'O'), ('kauluk', 'O'), ('uluk', 'O'), ('baan', 'O'), ('I', 'B-ANM'), ('Kekua', 'I-ANM'), ('.', 'O')]\n"
     ]
    },
    {
     "name": "stderr",
     "output_type": "stream",
     "text": [
      "C:\\Users\\Kameliya Putri\\AppData\\Local\\Temp\\ipykernel_4084\\2789067165.py:5: DeprecationWarning: DataFrameGroupBy.apply operated on the grouping columns. This behavior is deprecated, and in a future version of pandas the grouping columns will be excluded from the operation. Either pass `include_groups=False` to exclude the groupings or explicitly select the grouping columns after groupby to silence this warning.\n",
      "  self.grouped = data.groupby(\"SentenceID\").apply(\n"
     ]
    }
   ],
   "source": [
    "# Inisialisasi SentenceGetter\n",
    "getter = SentenceGetter(df)\n",
    "sentences = getter.sentences\n",
    "\n",
    "# Menampilkan salah satu kalimat untuk verifikasi\n",
    "print(\"Contoh kalimat pertama:\", sentences[0])"
   ]
  },
  {
   "cell_type": "markdown",
   "metadata": {},
   "source": [
    "Getting all the sentences in the dataset."
   ]
  },
  {
   "cell_type": "markdown",
   "metadata": {},
   "source": [
    "#### Feature Preparation\n",
    "These are the default features used by the NER in nltk. We can also modify it for our customization."
   ]
  },
  {
   "cell_type": "code",
   "execution_count": 12,
   "metadata": {},
   "outputs": [],
   "source": [
    "# Fungsi ekstraksi fitur dari setiap kata\n",
    "# Hanya memproses word dan tag saja, postag dihapus\n",
    "\n",
    "def word2features(sent, i):\n",
    "    word = sent[i][0]\n",
    "\n",
    "    features = {\n",
    "        'bias': 1.0,\n",
    "        'word.lower()': word.lower(),\n",
    "        'word[-3:]': word[-3:],\n",
    "        'word[-2:]': word[-2:],\n",
    "        'word.isupper()': word.isupper(),\n",
    "        'word.istitle()': word.istitle(),\n",
    "        'word.isdigit()': word.isdigit(),\n",
    "    }\n",
    "    \n",
    "    if i > 0:\n",
    "        word1 = sent[i - 1][0]\n",
    "        features.update({\n",
    "            '-1:word.lower()': word1.lower(),\n",
    "            '-1:word.istitle()': word1.istitle(),\n",
    "            '-1:word.isupper()': word1.isupper(),\n",
    "        })\n",
    "    else:\n",
    "        features['BOS'] = True  # Beginning of sentence\n",
    "\n",
    "    if i < len(sent) - 1:\n",
    "        word1 = sent[i + 1][0]\n",
    "        features.update({\n",
    "            '+1:word.lower()': word1.lower(),\n",
    "            '+1:word.istitle()': word1.istitle(),\n",
    "            '+1:word.isupper()': word1.isupper(),\n",
    "        })\n",
    "    else:\n",
    "        features['EOS'] = True  # End of sentence\n",
    "\n",
    "    return features\n",
    "\n",
    "# Ekstraksi fitur untuk satu kalimat\n",
    "def sent2features(sent):\n",
    "    return [word2features(sent, i) for i in range(len(sent))]\n",
    "\n",
    "def sent2labels(sent):\n",
    "    return [label for _, label in sent]\n",
    "\n",
    "def sent2tokens(sent):\n",
    "    return [token for token, _ in sent]\n"
   ]
  },
  {
   "cell_type": "code",
   "execution_count": 13,
   "metadata": {},
   "outputs": [],
   "source": [
    "X = [sent2features(s) for s in sentences]\n",
    "y = [sent2labels(s) for s in sentences]"
   ]
  },
  {
   "cell_type": "code",
   "execution_count": 14,
   "metadata": {},
   "outputs": [],
   "source": [
    "X_train, X_test, y_train, y_test = train_test_split(X, y, test_size=0.2, random_state=42)"
   ]
  },
  {
   "cell_type": "code",
   "execution_count": 15,
   "metadata": {},
   "outputs": [
    {
     "name": "stdout",
     "output_type": "stream",
     "text": [
      "Fitting 3 folds for each of 50 candidates, totalling 150 fits\n",
      "Best params: {'c1': np.float64(0.28458916688293656), 'c2': np.float64(0.004311116039164944)}\n"
     ]
    }
   ],
   "source": [
    "# Hyperparameter tuning menggunakan RandomizedSearchCV\n",
    "crf = CRF(algorithm='lbfgs', max_iterations=200, all_possible_transitions=True)\n",
    "\n",
    "params_space = {\n",
    "    'c1': scipy.stats.expon(scale=0.5),\n",
    "    'c2': scipy.stats.expon(scale=0.05),\n",
    "}\n",
    "\n",
    "f1_scorer = make_scorer(flat_f1_score, average='weighted')\n",
    "\n",
    "rs = RandomizedSearchCV(crf, params_space,\n",
    "                        cv=3,\n",
    "                        verbose=1,\n",
    "                        n_jobs=-1,\n",
    "                        n_iter=50,\n",
    "                        scoring=f1_scorer)\n",
    "\n",
    "rs.fit(X_train, y_train)\n",
    "\n",
    "# Model terbaik\n",
    "crf_best = rs.best_estimator_\n",
    "\n",
    "print(\"Best params:\", rs.best_params_)"
   ]
  },
  {
   "cell_type": "code",
   "execution_count": 16,
   "metadata": {},
   "outputs": [],
   "source": [
    "# Prediksi dan evaluasi\n",
    "y_pred = crf_best.predict(X_test)"
   ]
  },
  {
   "cell_type": "markdown",
   "metadata": {},
   "source": [
    "#### Evaluating the model performance.\n",
    "We will use precision, recall and f1-score metrics to evaluate the performance of the model since the accuracy is not a good metric for this dataset because we have an unequal number of data points in each class."
   ]
  },
  {
   "cell_type": "code",
   "execution_count": 17,
   "metadata": {},
   "outputs": [
    {
     "name": "stdout",
     "output_type": "stream",
     "text": [
      "0.9549887618396182\n"
     ]
    }
   ],
   "source": [
    "f1_score = flat_f1_score(y_test, y_pred, average = 'weighted')\n",
    "print(f1_score)"
   ]
  },
  {
   "cell_type": "code",
   "execution_count": 18,
   "metadata": {},
   "outputs": [
    {
     "name": "stdout",
     "output_type": "stream",
     "text": [
      "              precision    recall  f1-score   support\n",
      "\n",
      "       B-ADJ       0.99      0.94      0.96        81\n",
      "       B-ANM       0.88      0.83      0.86       495\n",
      "      B-GODS       0.78      0.76      0.77        82\n",
      "       B-OBJ       0.78      0.65      0.71       331\n",
      "       B-PER       0.90      0.86      0.88       505\n",
      "       I-ADJ       0.99      0.94      0.96        98\n",
      "       I-ANM       0.88      0.87      0.88       475\n",
      "      I-GODS       0.77      0.81      0.79       108\n",
      "       I-OBJ       0.60      0.50      0.54       157\n",
      "       I-PER       0.91      0.92      0.91       634\n",
      "           O       0.97      0.98      0.98     14301\n",
      "\n",
      "    accuracy                           0.96     17267\n",
      "   macro avg       0.86      0.82      0.84     17267\n",
      "weighted avg       0.95      0.96      0.95     17267\n",
      "\n"
     ]
    }
   ],
   "source": [
    "report = flat_classification_report(y_test, y_pred)\n",
    "print(report)"
   ]
  },
  {
   "cell_type": "code",
   "execution_count": 19,
   "metadata": {},
   "outputs": [
    {
     "data": {
      "text/plain": [
       "['nercrf_model.pkl']"
      ]
     },
     "execution_count": 19,
     "metadata": {},
     "output_type": "execute_result"
    }
   ],
   "source": [
    "import joblib\n",
    "\n",
    "# Menyimpan model\n",
    "joblib.dump(crf_best, 'nercrf_model.pkl')"
   ]
  },
  {
   "cell_type": "markdown",
   "metadata": {},
   "source": [
    "This looks quite nice."
   ]
  },
  {
   "cell_type": "code",
   "execution_count": 1,
   "metadata": {},
   "outputs": [
    {
     "ename": "NameError",
     "evalue": "name 'crf_best' is not defined",
     "output_type": "error",
     "traceback": [
      "\u001b[1;31m---------------------------------------------------------------------------\u001b[0m",
      "\u001b[1;31mNameError\u001b[0m                                 Traceback (most recent call last)",
      "Cell \u001b[1;32mIn[1], line 40\u001b[0m\n\u001b[0;32m     37\u001b[0m     \u001b[38;5;28;01mreturn\u001b[39;00m result\n\u001b[0;32m     39\u001b[0m kalimat_input \u001b[38;5;241m=\u001b[39m \u001b[38;5;124m\"\u001b[39m\u001b[38;5;124mI raksasa nyagjang, jaga nyedayang Ida Sang Rama.\u001b[39m\u001b[38;5;124m\"\u001b[39m\n\u001b[1;32m---> 40\u001b[0m hasil \u001b[38;5;241m=\u001b[39m test_model(kalimat_input, \u001b[43mcrf_best\u001b[49m)\n\u001b[0;32m     42\u001b[0m \u001b[38;5;28mprint\u001b[39m(\u001b[38;5;124m\"\u001b[39m\u001b[38;5;124mHasil Prediksi:\u001b[39m\u001b[38;5;124m\"\u001b[39m)\n\u001b[0;32m     43\u001b[0m \u001b[38;5;28;01mfor\u001b[39;00m kata, tag \u001b[38;5;129;01min\u001b[39;00m hasil:\n",
      "\u001b[1;31mNameError\u001b[0m: name 'crf_best' is not defined"
     ]
    }
   ],
   "source": [
    "# Fungsi untuk mengetes model dengan input kalimat baru\n",
    "def test_model(sentence, crf_model):\n",
    "    words = sentence.split()\n",
    "    \n",
    "    sent_features = [\n",
    "        {'bias': 1.0, \n",
    "         'word.lower()': word.lower(),\n",
    "         'word[-3:]': word[-3:],\n",
    "         'word[-2:]': word[-2:],\n",
    "         'word.isupper()': word.isupper(),\n",
    "         'word.istitle()': word.istitle(),\n",
    "         'word.isdigit()': word.isdigit()} \n",
    "        for word in words\n",
    "    ]\n",
    "    \n",
    "    for i, word_features in enumerate(sent_features):\n",
    "        if i > 0:\n",
    "            word_features.update({\n",
    "                '-1:word.lower()': words[i-1].lower(),\n",
    "                '-1:word.istitle()': words[i-1].istitle(),\n",
    "                '-1:word.isupper()': words[i-1].isupper(),\n",
    "            })\n",
    "        else:\n",
    "            word_features['BOS'] = True\n",
    "        \n",
    "        if i < len(words) - 1:\n",
    "            word_features.update({\n",
    "                '+1:word.lower()': words[i+1].lower(),\n",
    "                '+1:word.istitle()': words[i+1].istitle(),\n",
    "                '+1:word.isupper()': words[i+1].isupper(),\n",
    "            })\n",
    "        else:\n",
    "            word_features['EOS'] = True\n",
    "\n",
    "    predicted_tags = crf_model.predict([sent_features])[0]\n",
    "    result = list(zip(words, predicted_tags))\n",
    "    return result\n",
    "\n",
    "kalimat_input = \"I raksasa nyagjang, jaga nyedayang Ida Sang Rama.\"\n",
    "hasil = test_model(kalimat_input, crf_best)\n",
    "\n",
    "print(\"Hasil Prediksi:\")\n",
    "for kata, tag in hasil:\n",
    "    print(f\"{kata}\\t{tag}\")"
   ]
  }
 ],
 "metadata": {
  "kernelspec": {
   "display_name": "Python 3",
   "language": "python",
   "name": "python3"
  },
  "language_info": {
   "codemirror_mode": {
    "name": "ipython",
    "version": 3
   },
   "file_extension": ".py",
   "mimetype": "text/x-python",
   "name": "python",
   "nbconvert_exporter": "python",
   "pygments_lexer": "ipython3",
   "version": "3.10.11"
  }
 },
 "nbformat": 4,
 "nbformat_minor": 2
}
